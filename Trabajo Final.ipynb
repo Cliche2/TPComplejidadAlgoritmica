{
 "cells": [
  {
   "cell_type": "code",
   "execution_count": 1,
   "metadata": {},
   "outputs": [],
   "source": [
    "import itertools\n",
    "import folium"
   ]
  },
  {
   "cell_type": "code",
   "execution_count": 2,
   "metadata": {},
   "outputs": [],
   "source": [
    "class Point:\n",
    "    def __init__(self, _name, _x, _y):\n",
    "        self.n = _name\n",
    "        self.x = _x\n",
    "        self.y = _y\n",
    "    def name(self):\n",
    "        return self.n\n",
    "    def lgt(self):\n",
    "        return self.x\n",
    "    def lat(self):\n",
    "        return self.y"
   ]
  },
  {
   "cell_type": "code",
   "execution_count": 3,
   "metadata": {},
   "outputs": [],
   "source": [
    "def ReadData(filename):\n",
    "    G = []\n",
    "    file = open(filename)\n",
    "    for line in file:\n",
    "        x = line.split(',')\n",
    "        G.append(Point(x[1], x[2], x[3]))\n",
    "    return G"
   ]
  },
  {
   "cell_type": "code",
   "execution_count": 4,
   "metadata": {},
   "outputs": [],
   "source": [
    "\"\"\"Return distancia entre dos puntos\"\"\"\n",
    "def distance(punto1, punto2):\n",
    "    dis = ((float(punto1.lgt()) - float(punto2.lgt()))**2 + \n",
    "           (float(punto1.lat()) - float(punto2.lat()))**2) ** 0.5\n",
    "    return dis"
   ]
  },
  {
   "cell_type": "code",
   "execution_count": 5,
   "metadata": {},
   "outputs": [],
   "source": [
    "def calDist(rutas, G):\n",
    "    costosViaje = []\n",
    "\n",
    "    for ruta in rutas:\n",
    "        costoViaje = 0\n",
    "\n",
    "        #Suma todas las distancias.\n",
    "        for i in range(1,len(ruta)):\n",
    "            #cada elemento se busca la ruta y distancia\n",
    "            costoViaje += distance(G[ruta[i-1]], G[ruta[i]])\n",
    "\n",
    "        costosViaje.append(costoViaje)\n",
    "\n",
    "    #consigue el minimo costo. \n",
    "    minCosto = min(costosViaje)\n",
    "    minimo = (rutas[costosViaje.index(minCosto)], minCosto)\n",
    "\n",
    "    #regresa una tupla de la minima ruta y su distancia total\n",
    "    return minimo"
   ]
  },
  {
   "cell_type": "code",
   "execution_count": 6,
   "metadata": {},
   "outputs": [],
   "source": [
    "def genRutas(rutaLar):\n",
    "    #Pos tiene todos las posibles nodos \n",
    "    posi = [ x for x in range(2,rutaLar+1) ]\n",
    "\n",
    "    #usando el permutations, se genera todas las posibles rutas\n",
    "    rutas = list(map(list, itertools.permutations(posi)))\n",
    "    #ingresa la cuidad primera, para q siempre sea la primera cuidad en todas las rutas. \n",
    "    for x in rutas:\n",
    "        x.insert(0,1)\n",
    "    return rutas"
   ]
  },
  {
   "cell_type": "code",
   "execution_count": 13,
   "metadata": {},
   "outputs": [
    {
     "name": "stdout",
     "output_type": "stream",
     "text": [
      "Ruta Minima: \n",
      "Campo Verde\n",
      "Manantial\n",
      "Selva Verde\n",
      "Sumac Wassi\n",
      "Ana Jara Velasquez\n",
      "Casa Huerta\n",
      "Bella Vista\n",
      "San Lorenzo\n",
      "Alto Milagro\n",
      "Angel de la Luz\n",
      "[-73.68263125, -11.23852662]\n",
      "[-73.73216629, -11.05266063]\n",
      "[-71.41628373, -12.93040825]\n",
      "[-75.69002867, -14.0320047]\n",
      "[-75.76846719, -13.96906928]\n",
      "[-76.6739434, -11.91991169]\n",
      "[-77.32246399, -6.472756346]\n",
      "[-79.7604847, -5.944753271]\n",
      "[-79.67296422, -5.016080824]\n",
      "[-80.25141478, -3.694722345]\n",
      "Distancia Total:  20.283515436017556\n"
     ]
    },
    {
     "data": {
      "text/html": [
       "<div style=\"width:100%;\"><div style=\"position:relative;width:100%;height:0;padding-bottom:60%;\"><iframe src=\"data:text/html;charset=utf-8;base64,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\" style=\"position:absolute;width:100%;height:100%;left:0;top:0;border:none !important;\" allowfullscreen webkitallowfullscreen mozallowfullscreen></iframe></div></div>"
      ],
      "text/plain": [
       "<folium.folium.Map at 0xc222d30>"
      ]
     },
     "execution_count": 13,
     "metadata": {},
     "output_type": "execute_result"
    }
   ],
   "source": [
    "G = ReadData('datat.tst')\n",
    "rutaLar = 10\n",
    "rutas = genRutas(rutaLar)\n",
    "corto = calDist(rutas, G)\n",
    "print(\"Ruta Minima: \")\n",
    "arr = corto[0]\n",
    "for i in range(len(arr)):\n",
    "    print(G[arr[i]].name())\n",
    "  \n",
    "C = []\n",
    "mapa = folium.Map(location=[41.1, -98.3], zoom_start = 4)\n",
    "for i in range(len(arr)):\n",
    "    print([float(G[arr[i]].lgt()),float(G[arr[i]].lat())])\n",
    "    C.append([float(G[arr[i]].lat()),float(G[arr[i]].lgt())])\n",
    "    folium.Marker(location=(float(G[arr[i]].lat()), float(G[arr[i]].lgt())), popup=(G[arr[i]].name())).add_to(mapa)\n",
    "polyline = folium.PolyLine(locations=C, weight = 2, color='green')\n",
    "mapa.add_child(polyline)\n",
    "#print(\"Ruta Minima: \", corto[0])\n",
    "print(\"Distancia Total: \", corto[1])\n",
    "mapa"
   ]
  },
  {
   "cell_type": "code",
   "execution_count": null,
   "metadata": {},
   "outputs": [],
   "source": []
  }
 ],
 "metadata": {
  "kernelspec": {
   "display_name": "Python 3",
   "language": "python",
   "name": "python3"
  },
  "language_info": {
   "codemirror_mode": {
    "name": "ipython",
    "version": 3
   },
   "file_extension": ".py",
   "mimetype": "text/x-python",
   "name": "python",
   "nbconvert_exporter": "python",
   "pygments_lexer": "ipython3",
   "version": "3.6.4"
  }
 },
 "nbformat": 4,
 "nbformat_minor": 2
}
