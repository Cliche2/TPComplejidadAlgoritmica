{
 "cells": [
  {
   "cell_type": "code",
   "execution_count": 7,
   "metadata": {},
   "outputs": [],
   "source": [
    "import folium\n",
    "import math\n",
    "import heapq as hq\n",
    "from itertools import product"
   ]
  },
  {
   "cell_type": "markdown",
   "metadata": {},
   "source": [
    "Poner coordenadas en (Latitud, Longitud)"
   ]
  },
  {
   "cell_type": "code",
   "execution_count": 8,
   "metadata": {},
   "outputs": [],
   "source": [
    "class Point:\n",
    "    def __init__(self, _name, _x, _y):\n",
    "        self.n = _name\n",
    "        self.x = float(_x)\n",
    "        self.y = float(_y[:-2]) \n",
    "    def name(self):\n",
    "        return self.n\n",
    "    def lgt(self):\n",
    "        return self.x\n",
    "    def lat(self):\n",
    "        return self.y"
   ]
  },
  {
   "cell_type": "code",
   "execution_count": 9,
   "metadata": {},
   "outputs": [],
   "source": [
    "def ReadData(filename):\n",
    "    G = []\n",
    "    file = open(filename)\n",
    "    for line in file:\n",
    "        x = line.split(\",\")\n",
    "        G.append(Point(x[1], x[2], x[3]))\n",
    "    return G"
   ]
  },
  {
   "cell_type": "markdown",
   "metadata": {},
   "source": [
    "Fórmula del Haversine\n",
    "\n",
    "R = radio de la Tierra\n",
    "\n",
    "Δlat = lat2− lat1\n",
    "\n",
    "Δlong = long2− long1\n",
    "\n",
    "a = sin²(Δlat/2) + cos(lat1) · cos(lat2) · sin²(Δlong/2)\n",
    "\n",
    "c = 2 · atan2(√a, √(1−a))\n",
    "\n",
    "d = R · c\n",
    "\n",
    "El radio equivolumen es de 6371 km."
   ]
  },
  {
   "cell_type": "code",
   "execution_count": 10,
   "metadata": {},
   "outputs": [],
   "source": [
    "def UCS(G, s):\n",
    "    t = 0\n",
    "    rad = 6371\n",
    "    n = len(G)\n",
    "    visited = [False]*n\n",
    "    weights = [math.inf]*n\n",
    "    path = [-1]*n\n",
    "    queue = []\n",
    "    weights[s] = 0\n",
    "    hq.heappush(queue, (0, s))\n",
    "    last = (math.inf, None)\n",
    "    minor = (math.inf, None)\n",
    "    while len(queue) > 0:\n",
    "        g, u = hq.heappop(queue)\n",
    "        if visited[u]: continue\n",
    "        visited[u] = True\n",
    "        lgt = G[u].lgt()\n",
    "        lat = G[u].lat()\n",
    "        t+=1\n",
    "        for v in range(len(G)):\n",
    "            if (not u == v) and ((v == s and t == len(G) and len(queue) == 0) or (not v == s)): \n",
    "                _lgt = G[v].lgt()\n",
    "                _lat = G[v].lat()\n",
    "                #x = _lgt - lgt\n",
    "                #y = _lat - lat\n",
    "                #a = pow(math.sin(y / 2), 2) + math.cos(lat) * math.cos(_lat) * pow(math.sin(x / 2),2)\n",
    "                #c = 2 * math.atan2(math.sqrt(a), math.sqrt(1-a))\n",
    "                #h = rad * c\n",
    "                h = math.sqrt(pow((_lgt-lgt),2)+pow((_lat-lat),2))\n",
    "                #print(h)\n",
    "                if h < minor[0]:\n",
    "                    minor = (h, v)\n",
    "                    \n",
    "                if h < 3:\n",
    "                    f = g + h\n",
    "                    if f < weights[v]:\n",
    "                        weights[v] = f\n",
    "                        path[v] = u\n",
    "                        hq.heappush(queue, (f, v))\n",
    "                        last = (f, v)\n",
    "                elif v == len(G) - 1:\n",
    "                    #h, w = minor\n",
    "                    #f = g + h\n",
    "                    #weights[w] = f\n",
    "                    #path[w] = u\n",
    "                    #hq.heappush(queue, (f, w))\n",
    "                    #last = (f, w)\n",
    "                    h, w = minor\n",
    "                    f = g + h\n",
    "                    if f < weights[w]:\n",
    "                        weights[w] = f\n",
    "                        path[w] = u\n",
    "                        hq.heappush(queue, (f, w))\n",
    "                        last = (f, w)\n",
    "    path[s] = last[1]\n",
    "    weights[s] = last[0]\n",
    "    return path, weights"
   ]
  },
  {
   "cell_type": "code",
   "execution_count": 16,
   "metadata": {},
   "outputs": [],
   "source": [
    "def Draw(G, pos):\n",
    "    path, weights = UCS(G, pos)\n",
    "\n",
    "    C = []\n",
    "    act = pos\n",
    "    _bool = True\n",
    "    _color = 'green'\n",
    "    i=0\n",
    "    while _bool:\n",
    "        C.append([G[act].lat(), G[act].lgt()])    \n",
    "        folium.Marker(location=(G[act].lat(), G[act].lgt()), popup=G[act].name(), icon=folium.Icon(color=_color)).add_to(m)\n",
    "        i+=1\n",
    "        act = path[act]\n",
    "        \n",
    "        if _color =='green':\n",
    "            _color = 'red'\n",
    "        elif _color == 'red':\n",
    "            _color = 'blue'\n",
    "            \n",
    "        if act == pos:\n",
    "            _bool = False\n",
    "            \n",
    "    C.append([G[act].lat(), G[act].lgt()])  \n",
    "    return C "
   ]
  },
  {
   "cell_type": "code",
   "execution_count": 15,
   "metadata": {},
   "outputs": [
    {
     "name": "stdout",
     "output_type": "stream",
     "text": [
      "Porcentaje: 16.0\n"
     ]
    },
    {
     "data": {
      "text/html": [
       "<div style=\"width:100%;\"><div style=\"position:relative;width:100%;height:0;padding-bottom:60%;\"><iframe src=\"data:text/html;charset=utf-8;base64,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\" style=\"position:absolute;width:100%;height:100%;left:0;top:0;border:none !important;\" allowfullscreen webkitallowfullscreen mozallowfullscreen></iframe></div></div>"
      ],
      "text/plain": [
       "<folium.folium.Map at 0x212dd16dfd0>"
      ]
     },
     "execution_count": 15,
     "metadata": {},
     "output_type": "execute_result"
    }
   ],
   "source": [
    "G = ReadData('testdata.tst')\n",
    "pos = 0\n",
    "\n",
    "m = folium.Map(location=[41.1, -90.3], zoom_start=4)\n",
    "C = Draw(G, pos)\n",
    "polyLine = folium.PolyLine(locations=C, weight=2, color='green')\n",
    "m.add_child(polyLine)"
   ]
  },
  {
   "cell_type": "code",
   "execution_count": null,
   "metadata": {},
   "outputs": [],
   "source": [
    "#Coordenadas\n",
    "\n",
    "# Coordinates are 10 points on the great circle from Boston to\n",
    "# San Francisco.\n",
    "# Reference: http://williams.best.vwh.net/avform.htm#Intermediate\n",
    "coordinates = [\n",
    "    [42.3581, -71.0636],\n",
    "    [42.82995815, -74.78991444],\n",
    "    [43.17929819, -78.56603306],\n",
    "    [43.40320216, -82.37774519],\n",
    "    [43.49975489, -86.20965845],\n",
    "    [41.4338549, -108.74485069],\n",
    "    [40.67471747, -112.29609954],\n",
    "    [39.8093434, -115.76190821],\n",
    "    [38.84352776, -119.13665678],\n",
    "    [37.7833, -122.4167]]\n",
    "\n",
    "# Create the map and add the line\n",
    "m = folium.Map(location=[41.9, -97.3], zoom_start=4)\n",
    "my_PolyLine=folium.PolyLine(locations=coordinates,weight=5)\n",
    "m.add_child(my_PolyLine)"
   ]
  },
  {
   "cell_type": "code",
   "execution_count": null,
   "metadata": {},
   "outputs": [],
   "source": [
    "#Marcadores\n",
    "\n",
    "m = folium.Map()\n",
    "\n",
    "folium.Marker(\n",
    "    location=[45.3288, -121.6625],\n",
    "    popup='Mt. Hood Meadows',\n",
    "    icon=folium.Icon(icon='cloud')\n",
    ").add_to(m)\n",
    "\n",
    "folium.Marker(\n",
    "    location=[45.3311, -121.7113],\n",
    "    popup='Timberline Lodge',\n",
    "    icon=folium.Icon(color='green')\n",
    ").add_to(m)\n",
    "\n",
    "folium.Marker(\n",
    "    location=[45.3300, -121.6823],\n",
    "    popup='Some Other Location',\n",
    "    icon=folium.Icon(color='red', icon='info-sign')\n",
    ").add_to(m)\n",
    "\n",
    "m"
   ]
  }
 ],
 "metadata": {
  "kernelspec": {
   "display_name": "Python 3",
   "language": "python",
   "name": "python3"
  },
  "language_info": {
   "codemirror_mode": {
    "name": "ipython",
    "version": 3
   },
   "file_extension": ".py",
   "mimetype": "text/x-python",
   "name": "python",
   "nbconvert_exporter": "python",
   "pygments_lexer": "ipython3",
   "version": "3.6.5"
  }
 },
 "nbformat": 4,
 "nbformat_minor": 2
}
